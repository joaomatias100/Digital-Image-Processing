{
 "cells": [
  {
   "cell_type": "code",
   "execution_count": 1,
   "id": "initial_id",
   "metadata": {
    "collapsed": true,
    "ExecuteTime": {
     "end_time": "2023-11-27T12:04:56.039627900Z",
     "start_time": "2023-11-27T12:04:55.497796300Z"
    }
   },
   "outputs": [],
   "source": [
    "import matplotlib.pyplot as plt\n",
    "import cv2\n",
    "import numpy as np"
   ]
  },
  {
   "cell_type": "code",
   "execution_count": 11,
   "outputs": [
    {
     "name": "stdout",
     "output_type": "stream",
     "text": [
      "262144\n",
      "pixels\n"
     ]
    }
   ],
   "source": [
    "#Ex1\n",
    "path1 = \"teste/Lung.bmp\"\n",
    "\n",
    "img_lung = cv2.imread(path1, cv2.COLOR_BGR2RGB)\n",
    "\n",
    "#Display imagem lung\n",
    "cv2.imshow(\"lung\", img_lung)\n",
    "cv2.waitKey(0)\n",
    "cv2.destroyAllWindows()\n",
    "\n",
    "#Remover ruído\n",
    "img_lung = cv2.medianBlur(img_lung, 3)\n",
    "cv2.imshow(\"lung\", img_lung)\n",
    "cv2.waitKey(0)\n",
    "cv2.destroyAllWindows()\n",
    "\n",
    "#Canny da imagem\n",
    "img_lung = cv2.Canny(img_lung, 100, 200)\n",
    "cv2.imshow(\"lung\", img_lung)\n",
    "cv2.waitKey(0)\n",
    "cv2.destroyAllWindows()\n",
    "\n",
    "#binary da imagem\n",
    "#threshold = 200\n",
    "#img_lung = cv2.threshold(img_lung, threshold, 255, cv2.THRESH_BINARY)\n",
    "#plt.plot(img_lung)\n",
    "\n",
    "#inverso da imagem\n",
    "img_lung = 255 - img_lung\n",
    "cv2.imshow(\"lung\", img_lung)\n",
    "cv2.waitKey(0)\n",
    "cv2.destroyAllWindows()\n",
    "\n",
    "#contagem de pixeis\n",
    "height, width = img_lung.shape\n",
    "total = height * width\n",
    "print(total)\n",
    "print(\"pixels\")"
   ],
   "metadata": {
    "collapsed": false,
    "ExecuteTime": {
     "end_time": "2023-11-27T12:11:25.328252600Z",
     "start_time": "2023-11-27T12:11:00.157687900Z"
    }
   },
   "id": "1affa75f24000c2"
  },
  {
   "cell_type": "code",
   "execution_count": 12,
   "outputs": [],
   "source": [
    "#Ex2\n",
    "path1 = \"teste/Rat.bmp\"\n",
    "\n",
    "img_rat = cv2.imread(path1, cv2.IMREAD_GRAYSCALE)\n",
    "\n",
    "#Display imagem rat\n",
    "cv2.imshow(\"rat\", img_rat)\n",
    "cv2.waitKey(0)\n",
    "cv2.destroyAllWindows()\n",
    "\n",
    "_, newrat1 = cv2.threshold(img_rat, 50, 170, cv2.THRESH_BINARY)\n",
    "cv2.imshow(\"newrat\", newrat1)\n",
    "cv2.waitKey(0)\n",
    "cv2.destroyAllWindows()\n",
    "\n",
    "_, newrat2 = cv2.threshold(img_rat, 200, 255, cv2.THRESH_BINARY)\n",
    "cv2.imshow(\"newrat2\", newrat2)\n",
    "cv2.waitKey(0)\n",
    "cv2.destroyAllWindows()\n",
    "\n",
    "merged_image = cv2.bitwise_or(newrat1, newrat2)\n",
    "cv2.imshow(\"newrat2\", merged_image)\n",
    "cv2.waitKey(0)\n",
    "cv2.destroyAllWindows()"
   ],
   "metadata": {
    "collapsed": false,
    "ExecuteTime": {
     "end_time": "2023-11-27T12:11:55.374588500Z",
     "start_time": "2023-11-27T12:11:32.067932800Z"
    }
   },
   "id": "61195b5c8bc0f47b"
  },
  {
   "cell_type": "code",
   "execution_count": 13,
   "outputs": [],
   "source": [
    "#Ex3\n",
    "path1 = \"teste/Sheep.jpg\"\n",
    "\n",
    "img_sheep = cv2.imread(path1, cv2.COLOR_BGR2HSV)\n",
    "\n",
    "#Display imagem SHEEP\n",
    "cv2.imshow(\"sheep\", img_sheep)\n",
    "cv2.waitKey(0)\n",
    "cv2.destroyAllWindows()\n",
    "\n",
    "img_sheep = cv2.medianBlur(img_sheep, 5)\n",
    "cv2.imshow(\"sheep\", img_sheep)\n",
    "cv2.waitKey(0)\n",
    "cv2.destroyAllWindows()\n",
    "\n",
    "r, g, b = cv2.split(img_sheep)\n",
    "cv2.imshow(\"sheep green\", r)\n",
    "cv2.waitKey(0)\n",
    "cv2.destroyAllWindows()\n",
    "cv2.imshow(\"sheep green\", g)\n",
    "cv2.waitKey(0)\n",
    "cv2.destroyAllWindows()\n",
    "cv2.imshow(\"sheep green\", b)\n",
    "cv2.waitKey(0)\n",
    "cv2.destroyAllWindows()\n",
    "\n",
    "lower_green = np.array([40, 40, 40])\n",
    "upper_green = np.array([80, 255, 255])\n",
    "\n",
    "mask = cv2.inRange(img_sheep, lower_green, upper_green)\n",
    "\n",
    "reg = cv2.bitwise_and(img_sheep, img_sheep, mask=mask)\n",
    "cv2.imshow(\"sheep green\", reg)\n",
    "cv2.waitKey(0)\n",
    "cv2.destroyAllWindows()"
   ],
   "metadata": {
    "collapsed": false,
    "ExecuteTime": {
     "end_time": "2023-11-27T12:12:31.487125Z",
     "start_time": "2023-11-27T12:11:58.859043600Z"
    }
   },
   "id": "3d45c163c97571d"
  },
  {
   "cell_type": "code",
   "execution_count": null,
   "outputs": [],
   "source": [],
   "metadata": {
    "collapsed": false
   },
   "id": "7e6cd8896fc1f4f7"
  }
 ],
 "metadata": {
  "kernelspec": {
   "display_name": "Python 3",
   "language": "python",
   "name": "python3"
  },
  "language_info": {
   "codemirror_mode": {
    "name": "ipython",
    "version": 2
   },
   "file_extension": ".py",
   "mimetype": "text/x-python",
   "name": "python",
   "nbconvert_exporter": "python",
   "pygments_lexer": "ipython2",
   "version": "2.7.6"
  }
 },
 "nbformat": 4,
 "nbformat_minor": 5
}
