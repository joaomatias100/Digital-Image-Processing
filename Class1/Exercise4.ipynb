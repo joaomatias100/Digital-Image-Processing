{
 "cells": [
  {
   "cell_type": "code",
   "execution_count": 1,
   "id": "initial_id",
   "metadata": {
    "collapsed": true,
    "ExecuteTime": {
     "end_time": "2023-11-06T15:12:42.696803900Z",
     "start_time": "2023-11-06T15:12:42.168209400Z"
    }
   },
   "outputs": [],
   "source": [
    "import matplotlib.pyplot as plt\n",
    "import cv2\n",
    "import numpy as np"
   ]
  },
  {
   "cell_type": "code",
   "execution_count": null,
   "outputs": [],
   "source": [
    "#Ex1\n",
    "\n",
    "path1 = \"imagens/fce_clara.bmp\"\n",
    "path2 = \"imagens/fce_escura.bmp\"\n",
    "\n",
    "img1 = cv2.imread(path1, cv2.COLOR_BGR2RGB)\n",
    "img2 = cv2.imread(path2, cv2.COLOR_BGR2RGB)\n",
    "\n",
    "cv2.imshow(\"img1\", img1)\n",
    "cv2.imshow(\"img2\", img2)\n",
    "cv2.waitKey(0)\n",
    "cv2.destroyAllWindows()\n",
    "\n",
    "hist1 = cv2.calcHist([img1], [0], None, [256], [0, 256])\n",
    "hist2 = cv2.calcHist([img2], [0], None, [256], [0, 256])\n",
    "hist1 /= hist1.sum()\n",
    "hist2 /= hist2.sum()\n",
    "\n",
    "plt.subplot(2, 1, 1)\n",
    "plt.plot(hist1)\n",
    "plt.title(\"hist1\")\n",
    "plt.xlabel(\"Pixel value\")\n",
    "plt.ylabel(\"Frequency\")\n",
    "plt.xlim(0, 255)\n",
    "plt.show()\n",
    "\n",
    "plt.subplot(2, 1, 2)\n",
    "plt.plot(hist2)\n",
    "plt.title(\"hist2\")\n",
    "plt.xlabel(\"Pixel value\")\n",
    "plt.ylabel(\"Frequency\")\n",
    "plt.xlim(0, 255)\n",
    "plt.show()\n",
    "\n",
    "img1_mean = np.mean(img1)\n",
    "img2_mean = np.mean(img2)\n",
    "\n",
    "img1_stddev = np.std(img1)\n",
    "img2_stddev = np.std(img2)\n",
    "\n",
    "print(\"img1 stddev: \", img1_stddev)\n",
    "print(\"\\nimg2 stddev: \", img2_stddev)\n",
    "print(\"\\nimg1 mean: \", img1_mean)\n",
    "print(\"\\nimg2 mean: \", img2_mean)"
   ],
   "metadata": {
    "collapsed": false,
    "is_executing": true,
    "ExecuteTime": {
     "start_time": "2023-11-06T15:12:42.701775300Z"
    }
   },
   "id": "1786decb5724a176"
  },
  {
   "cell_type": "code",
   "execution_count": null,
   "outputs": [],
   "source": [
    "#Ex2\n",
    "path1 = \"imagens/vertebra.jpg\"\n",
    "\n",
    "img = cv2.imread(path1, cv2.IMREAD_GRAYSCALE)\n",
    "\n",
    "#cv2.imshow(\"img\", img)\n",
    "#cv2.waitKey(0)\n",
    "#cv2.destroyAllWindows()\n",
    "\n",
    "hist1 = cv2.calcHist([img], [0], None, [256], [0, 256])\n",
    "plt.subplot(2, 1, 1)\n",
    "plt.plot(hist1)\n",
    "plt.title(\"histogram 1\")\n",
    "\n",
    "img_ndc = np.argmax(hist1)\n",
    "print(\"NDC: \", img_ndc)\n",
    "\n",
    "hist2 = cv2.calcHist([img], [0], None, [25], [0, 256])\n",
    "plt.subplot(2, 1, 2)\n",
    "plt.plot(hist2)\n",
    "plt.title(\"histogram 2\")"
   ],
   "metadata": {
    "collapsed": false,
    "is_executing": true
   },
   "id": "7670afff841177dd"
  },
  {
   "cell_type": "code",
   "execution_count": null,
   "outputs": [],
   "source": [
    "#Ex3\n",
    "path = \"imagens/retina.tif\"\n",
    "\n",
    "img = cv2.imread(path, cv2.COLOR_BGR2RGB)\n",
    "\n",
    "cv2.imshow(\"img\", img)\n",
    "cv2.waitKey(0)\n",
    "cv2.destroyAllWindows()\n",
    "\n",
    "red, green, blue = cv2.split(img)\n",
    "\n",
    "hist_red = cv2.calcHist([red], [0], None, [256], [0, 256])\n",
    "hist_green = cv2.calcHist([green], [0], None, [256], [0, 256])\n",
    "hist_blue = cv2.calcHist([blue], [0], None, [256], [0, 256])\n",
    "\n",
    "plt.subplot(3, 1, 1)\n",
    "plt.plot(hist_red)\n",
    "plt.title(\"red\")\n",
    "\n",
    "plt.subplot(3, 1, 2)\n",
    "plt.plot(hist_green)\n",
    "plt.title(\"green\")\n",
    "\n",
    "plt.subplot(3, 1, 3)\n",
    "plt.plot(hist_blue)\n",
    "plt.title(\"blue\")\n",
    "\n",
    "cv2.imshow(\"red\", red)\n",
    "cv2.waitKey(0)\n",
    "cv2.destroyAllWindows()\n",
    "\n",
    "cv2.imshow(\"blue\", blue)\n",
    "cv2.waitKey(0)\n",
    "cv2.destroyAllWindows()\n",
    "\n",
    "cv2.imshow(\"green\", green)\n",
    "cv2.waitKey(0)\n",
    "cv2.destroyAllWindows()"
   ],
   "metadata": {
    "collapsed": false,
    "is_executing": true
   },
   "id": "2b5984826f1797ed"
  },
  {
   "cell_type": "code",
   "execution_count": null,
   "outputs": [],
   "source": [],
   "metadata": {
    "collapsed": false,
    "is_executing": true
   },
   "id": "357b02acb55b33fa"
  }
 ],
 "metadata": {
  "kernelspec": {
   "display_name": "Python 3",
   "language": "python",
   "name": "python3"
  },
  "language_info": {
   "codemirror_mode": {
    "name": "ipython",
    "version": 2
   },
   "file_extension": ".py",
   "mimetype": "text/x-python",
   "name": "python",
   "nbconvert_exporter": "python",
   "pygments_lexer": "ipython2",
   "version": "2.7.6"
  }
 },
 "nbformat": 4,
 "nbformat_minor": 5
}
