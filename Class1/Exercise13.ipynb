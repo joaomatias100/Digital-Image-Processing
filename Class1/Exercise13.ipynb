{
 "cells": [
  {
   "cell_type": "code",
   "execution_count": 1,
   "id": "initial_id",
   "metadata": {
    "collapsed": true,
    "ExecuteTime": {
     "end_time": "2023-11-27T16:05:44.070491200Z",
     "start_time": "2023-11-27T16:05:43.551981Z"
    }
   },
   "outputs": [],
   "source": [
    "import matplotlib.pyplot as plt\n",
    "import cv2\n",
    "import numpy as np"
   ]
  },
  {
   "cell_type": "code",
   "execution_count": 52,
   "outputs": [
    {
     "name": "stdout",
     "output_type": "stream",
     "text": [
      "(360, 664)\n",
      "Max width:  155\n",
      "Max length:  610\n",
      "Perimeter:  2588\n"
     ]
    }
   ],
   "source": [
    "#Ex1\n",
    "path = \"imagens/folha.jpg\"\n",
    "img = cv2.imread(path, cv2.IMREAD_GRAYSCALE)\n",
    "print(img.shape)\n",
    "cv2.imshow(\"img\", img)\n",
    "cv2.waitKey(0)\n",
    "cv2.destroyAllWindows()\n",
    "\n",
    "\"threshold Otsu\"\n",
    "_, thresh = cv2.threshold(img, 0, 255, cv2.THRESH_OTSU)\n",
    "#thresh = 255 - thresh\n",
    "cv2.imshow(\"img\", thresh)\n",
    "cv2.waitKey(0)\n",
    "cv2.destroyAllWindows()\n",
    "\n",
    "#find contours\n",
    "contours, _ = cv2.findContours(thresh, cv2.RETR_TREE, cv2.CHAIN_APPROX_NONE)\n",
    "final_img = cv2.drawContours(img, contours[1], -1, (0, 255, 0), 3)\n",
    "cv2.imshow(\"img\", final_img)\n",
    "cv2.waitKey(0)\n",
    "cv2.destroyAllWindows()\n",
    "\n",
    "x, y, w, h = cv2.boundingRect(contours[1])\n",
    "# Display the original binary image and draw the bounding box\n",
    "rec_img = cv2.rectangle(thresh, (x, y), (x + w, y + h), (0, 255, 0), 2)\n",
    "\n",
    "cv2.imshow(\"img\", rec_img)\n",
    "cv2.waitKey(0)\n",
    "cv2.destroyAllWindows()\n",
    "\n",
    "#length = cv2.arcLength(contours, True)\n",
    "length = contours[1].size\n",
    "print(\"Max width: \", h)\n",
    "print(\"Max length: \", w)\n",
    "print(\"Perimeter: \", length)\n",
    "\n",
    "\n"
   ],
   "metadata": {
    "collapsed": false,
    "ExecuteTime": {
     "end_time": "2023-11-27T17:17:19.727054900Z",
     "start_time": "2023-11-27T17:17:16.328284Z"
    }
   },
   "id": "aafe147c43943bb4"
  },
  {
   "cell_type": "code",
   "execution_count": null,
   "outputs": [],
   "source": [],
   "metadata": {
    "collapsed": false,
    "is_executing": true
   },
   "id": "380115c6a1abb9c5"
  }
 ],
 "metadata": {
  "kernelspec": {
   "display_name": "Python 3",
   "language": "python",
   "name": "python3"
  },
  "language_info": {
   "codemirror_mode": {
    "name": "ipython",
    "version": 2
   },
   "file_extension": ".py",
   "mimetype": "text/x-python",
   "name": "python",
   "nbconvert_exporter": "python",
   "pygments_lexer": "ipython2",
   "version": "2.7.6"
  }
 },
 "nbformat": 4,
 "nbformat_minor": 5
}
