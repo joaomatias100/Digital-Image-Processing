{
 "cells": [
  {
   "cell_type": "code",
   "execution_count": 1,
   "id": "initial_id",
   "metadata": {
    "collapsed": true,
    "ExecuteTime": {
     "end_time": "2023-11-06T14:56:43.824929500Z",
     "start_time": "2023-11-06T14:56:43.540078300Z"
    }
   },
   "outputs": [],
   "source": [
    "import cv2\n",
    "import numpy as np\n",
    "import matplotlib as plt"
   ]
  },
  {
   "cell_type": "code",
   "execution_count": 3,
   "outputs": [],
   "source": [
    "#Ex1\n",
    "path = \"imagens/bolas.jpg\"\n",
    "\n",
    "img = cv2.imread(path, cv2.COLOR_BGR2RGB)\n",
    "\n",
    "cv2.imshow(\"img\", img)\n",
    "cv2.waitKey(0)\n",
    "cv2.destroyAllWindows()\n",
    "\n",
    "hist = cv2.calcHist([img], [0], None, [256], [0, 256])\n",
    "\n",
    "\n",
    "\n",
    "\n",
    "# Escolha manualmente um valor de binarização\n",
    "threshold = 100  # Você pode ajustar esse valor\n",
    "\n",
    "# Aplique a binarização\n",
    "_, binary_image = cv2.threshold(img, threshold, 255, cv2.THRESH_BINARY)\n",
    "\n",
    "# Exiba a imagem binarizada\n",
    "cv2.imshow(\"img\", binary_image)\n",
    "cv2.waitKey(0)\n",
    "cv2.destroyAllWindows()"
   ],
   "metadata": {
    "collapsed": false,
    "ExecuteTime": {
     "end_time": "2023-11-06T14:59:22.881794700Z",
     "start_time": "2023-11-06T14:59:19.491509200Z"
    }
   },
   "id": "2fe37c1ca32977cf"
  },
  {
   "cell_type": "code",
   "execution_count": null,
   "outputs": [],
   "source": [],
   "metadata": {
    "collapsed": false
   },
   "id": "d474d1bded2e9e83"
  }
 ],
 "metadata": {
  "kernelspec": {
   "display_name": "Python 3",
   "language": "python",
   "name": "python3"
  },
  "language_info": {
   "codemirror_mode": {
    "name": "ipython",
    "version": 2
   },
   "file_extension": ".py",
   "mimetype": "text/x-python",
   "name": "python",
   "nbconvert_exporter": "python",
   "pygments_lexer": "ipython2",
   "version": "2.7.6"
  }
 },
 "nbformat": 4,
 "nbformat_minor": 5
}
