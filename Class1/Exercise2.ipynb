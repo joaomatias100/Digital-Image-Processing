{
 "cells": [
  {
   "cell_type": "code",
   "execution_count": 1,
   "outputs": [],
   "source": [
    "import matplotlib.pyplot as plt\n",
    "import cv2\n",
    "import numpy as np"
   ],
   "metadata": {
    "collapsed": false,
    "ExecuteTime": {
     "end_time": "2023-10-01T22:53:49.212885500Z",
     "start_time": "2023-10-01T22:53:48.585806700Z"
    }
   },
   "id": "1c74542aac8f6ba1"
  },
  {
   "cell_type": "code",
   "execution_count": 10,
   "outputs": [
    {
     "name": "stdout",
     "output_type": "stream",
     "text": [
      "190 190 190\n",
      "20 20 20\n"
     ]
    }
   ],
   "source": [
    "#Ex1\n",
    "path = \"imagens/rx_mao.jpg\"\n",
    "\n",
    "img = cv2.imread(path)\n",
    "\n",
    "x, y = 180, 70\n",
    "\n",
    "value = img[x, y]\n",
    "\n",
    "print(value[0] ,value[1], value[2])\n",
    "\n",
    "value[0] = 20\n",
    "value[1] = 20\n",
    "value[2] = 20\n",
    "print(value[0] ,value[1], value[2])"
   ],
   "metadata": {
    "collapsed": false,
    "ExecuteTime": {
     "end_time": "2023-10-01T23:04:06.328947300Z",
     "start_time": "2023-10-01T23:04:06.311805700Z"
    }
   },
   "id": "d575c6f0a69d8af"
  },
  {
   "cell_type": "code",
   "execution_count": null,
   "outputs": [],
   "source": [],
   "metadata": {
    "collapsed": false
   },
   "id": "ce8149fda091c18d"
  }
 ],
 "metadata": {
  "kernelspec": {
   "display_name": "Python 3",
   "language": "python",
   "name": "python3"
  },
  "language_info": {
   "codemirror_mode": {
    "name": "ipython",
    "version": 2
   },
   "file_extension": ".py",
   "mimetype": "text/x-python",
   "name": "python",
   "nbconvert_exporter": "python",
   "pygments_lexer": "ipython2",
   "version": "2.7.6"
  }
 },
 "nbformat": 4,
 "nbformat_minor": 5
}
