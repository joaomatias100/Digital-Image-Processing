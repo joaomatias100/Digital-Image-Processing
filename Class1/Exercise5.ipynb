{
 "cells": [
  {
   "cell_type": "code",
   "execution_count": 1,
   "id": "initial_id",
   "metadata": {
    "collapsed": true,
    "ExecuteTime": {
     "end_time": "2024-01-22T19:53:31.655121400Z",
     "start_time": "2024-01-22T19:53:31.157618800Z"
    }
   },
   "outputs": [],
   "source": [
    "import matplotlib.pyplot as plt\n",
    "import cv2\n",
    "import numpy as np"
   ]
  },
  {
   "cell_type": "code",
   "execution_count": null,
   "outputs": [],
   "source": [
    "#Ex1\n",
    "path = \"imagens/polen.tif\"\n",
    "\n",
    "img = cv2.imread(path, cv2.COLOR_BGR2RGB)\n",
    "equa_img = cv2.equalizeHist(img)\n",
    "\n",
    "cv2.imshow(\"img\", img)\n",
    "cv2.imshow(\"equa_img\", equa_img)\n",
    "cv2.waitKey(0)\n",
    "cv2.destroyAllWindows()\n",
    "\n",
    "hist = cv2.calcHist([img], [0], None, [256], [0, 256])\n",
    "equa_hist = cv2.calcHist([equa_img], [0], None, [256], [0, 256])\n",
    "\n",
    "plt.subplot(2, 1, 1)\n",
    "plt.plot(hist)\n",
    "plt.title(\"histogram\")\n",
    "\n",
    "plt.subplot(2, 1, 2)\n",
    "plt.plot(equa_hist)\n",
    "plt.title(\"equa histogram\")"
   ],
   "metadata": {
    "collapsed": false,
    "is_executing": true,
    "ExecuteTime": {
     "start_time": "2023-11-27T16:01:59.298293200Z"
    }
   },
   "id": "aafe147c43943bb4"
  },
  {
   "cell_type": "code",
   "execution_count": null,
   "outputs": [],
   "source": [
    "#Ex2\n",
    "path1 = \"imagens/babesia_1.jpg\"\n",
    "path2 = \"imagens/babesia_2.jpg\"\n",
    "\n",
    "img1 = cv2.imread(path1, cv2.COLOR_BGR2RGB)\n",
    "img2 = cv2.imread(path2, cv2.COLOR_BGR2RGB)\n",
    "\n",
    "cv2.imshow(\"img1\", img1)\n",
    "cv2.imshow(\"img2\", img2)\n",
    "cv2.waitKey(0)\n",
    "cv2.destroyAllWindows()\n",
    "\n",
    "hist1 = cv2.calcHist([img1], [0], None, [256], [0, 256])\n",
    "hist2 = cv2.calcHist([img2], [0], None, [256], [0, 256])\n",
    "\n",
    "plt.subplot(3, 1, 1)\n",
    "plt.plot(hist1)\n",
    "plt.title(\"histogram 1\")\n",
    "\n",
    "plt.subplot(3, 1, 2)\n",
    "plt.plot(hist2)\n",
    "plt.title(\"histogram 2\")\n",
    "\n",
    "r, g, b = cv2.split(img1)\n",
    "clahe = cv2.createCLAHE(clipLimit=2.0, tileGridSize=(8, 8))\n",
    "r1c = clahe.apply(r)\n",
    "g1c = clahe.apply(g)\n",
    "b1c = clahe.apply(b)\n",
    "equa_img1 = cv2.merge((r, g, b))\n",
    "cv2.imshow(\"equa\", equa_img1)\n",
    "cv2.waitKey(0)\n",
    "cv2.destroyAllWindows()\n",
    "\n",
    "hist3 = cv2.calcHist([equa_img1], [0], None, [256], [0, 256])\n",
    "\n",
    "plt.subplot(3, 1, 3)\n",
    "plt.plot(hist3)\n",
    "plt.title(\"histogram 3\")"
   ],
   "metadata": {
    "collapsed": false,
    "is_executing": true
   },
   "id": "6aca622c6a83c844"
  },
  {
   "cell_type": "code",
   "execution_count": null,
   "outputs": [],
   "source": [],
   "metadata": {
    "collapsed": false,
    "is_executing": true
   },
   "id": "380115c6a1abb9c5"
  }
 ],
 "metadata": {
  "kernelspec": {
   "display_name": "Python 3",
   "language": "python",
   "name": "python3"
  },
  "language_info": {
   "codemirror_mode": {
    "name": "ipython",
    "version": 2
   },
   "file_extension": ".py",
   "mimetype": "text/x-python",
   "name": "python",
   "nbconvert_exporter": "python",
   "pygments_lexer": "ipython2",
   "version": "2.7.6"
  }
 },
 "nbformat": 4,
 "nbformat_minor": 5
}
