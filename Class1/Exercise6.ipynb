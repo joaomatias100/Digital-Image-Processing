{
 "cells": [
  {
   "cell_type": "code",
   "execution_count": 1,
   "id": "initial_id",
   "metadata": {
    "collapsed": true,
    "ExecuteTime": {
     "end_time": "2023-11-06T15:12:41.739301Z",
     "start_time": "2023-11-06T15:12:40.853229300Z"
    }
   },
   "outputs": [],
   "source": [
    "import matplotlib.pyplot as plt\n",
    "import cv2\n",
    "import numpy as np"
   ]
  },
  {
   "cell_type": "code",
   "execution_count": null,
   "outputs": [],
   "source": [
    "#Ex1\n",
    "path = \"imagens/mamograma.tif\"\n",
    "\n",
    "img = cv2.imread(path, cv2.COLOR_BGR2RGB)\n",
    "\n",
    "cv2.imshow(\"img\", img)\n",
    "cv2.waitKey(0)\n",
    "cv2.destroyAllWindows()\n",
    "\n",
    "img = 255 - img\n",
    "cv2.imshow(\"img\", img)\n",
    "cv2.waitKey(0)\n",
    "cv2.destroyAllWindows()"
   ],
   "metadata": {
    "collapsed": false,
    "is_executing": true,
    "ExecuteTime": {
     "start_time": "2023-11-06T15:12:41.731748200Z"
    }
   },
   "id": "196eac634a26451f"
  },
  {
   "cell_type": "code",
   "execution_count": null,
   "outputs": [],
   "source": [
    "#Ex2\n",
    "path = \"imagens/polen.tif\"\n",
    "\n",
    "img = cv2.imread(path, cv2.COLOR_BGR2RGB)\n",
    "\n",
    "print(img.shape)\n",
    "cv2.imshow(\"img\", img)\n",
    "cv2.waitKey(0)\n",
    "cv2.destroyAllWindows()\n",
    "\n",
    "gamma = 0.8\n",
    "\n",
    "adj_img = np.array(255 * (img / 255.0) ** gamma)\n",
    "adj_img = adj_img.astype(np.uint8)\n",
    "cv2.imshow(\"adj_img\", adj_img)\n",
    "cv2.waitKey(0)\n",
    "cv2.destroyAllWindows()\n"
   ],
   "metadata": {
    "collapsed": false,
    "is_executing": true
   },
   "id": "543b7b06cf472182"
  },
  {
   "cell_type": "code",
   "execution_count": null,
   "outputs": [],
   "source": [
    "#Ex3\n",
    "path1 = \"imagens/rx_torax.jpg\"\n",
    "path2 = \"imagens/rx_torax2.jpg\"\n",
    "\n",
    "img1 = cv2.imread(path1, cv2.COLOR_BGR2RGB)\n",
    "img2 = cv2.imread(path2, cv2.COLOR_BGR2RGB)\n",
    "\n",
    "cv2.imshow(\"img1\", img1)\n",
    "cv2.imshow(\"img2\", img2)\n",
    "cv2.waitKey(0)\n",
    "cv2.destroyAllWindows()\n",
    "\n",
    "print(\"img1 \", img1.shape)\n",
    "print(\"img2 \", img2.shape)\n",
    "\n",
    "gamma1 = 0.3\n",
    "gamma2 = 3\n",
    "\n",
    "adj_img1 = np.array(255 * (img1 / 255.0) ** gamma1)\n",
    "adj_img1 = adj_img1.astype(np.uint8)\n",
    "adj_img2 = np.array(255 * (img2 / 255.0) ** gamma2)\n",
    "adj_img2 = adj_img2.astype(np.uint8)\n",
    "\n",
    "cv2.imshow(\"img1\", adj_img1)\n",
    "cv2.imshow(\"img2\", adj_img2)\n",
    "cv2.waitKey(0)\n",
    "cv2.destroyAllWindows()"
   ],
   "metadata": {
    "collapsed": false,
    "is_executing": true
   },
   "id": "ef65034c4455cd0d"
  },
  {
   "cell_type": "code",
   "execution_count": null,
   "outputs": [],
   "source": [
    "#Ex4\n",
    "path = \"imagens/fce_clara.bmp\"\n",
    "\n",
    "img = cv2.imread(path, cv2.COLOR_BGR2RGB)\n",
    "\n",
    "cv2.imshow(\"img\", img)\n",
    "cv2.waitKey(0)\n",
    "cv2.destroyAllWindows()\n",
    "\n",
    "k = 2.9\n",
    "\n",
    "lut = np.array([int(255 * (i / 255) ** k) for i in range(256)], dtype=np.uint8)\n",
    "\n",
    "trans_image = cv2.LUT(img, lut)\n",
    "\n",
    "cv2.imshow(\"trans_image\", trans_image)\n",
    "cv2.waitKey(0)\n",
    "cv2.destroyAllWindows()"
   ],
   "metadata": {
    "collapsed": false,
    "is_executing": true
   },
   "id": "d8bb856fd23d3192"
  },
  {
   "cell_type": "code",
   "execution_count": null,
   "outputs": [],
   "source": [],
   "metadata": {
    "collapsed": false,
    "is_executing": true
   },
   "id": "55898f20e1e33004"
  }
 ],
 "metadata": {
  "kernelspec": {
   "display_name": "Python 3",
   "language": "python",
   "name": "python3"
  },
  "language_info": {
   "codemirror_mode": {
    "name": "ipython",
    "version": 2
   },
   "file_extension": ".py",
   "mimetype": "text/x-python",
   "name": "python",
   "nbconvert_exporter": "python",
   "pygments_lexer": "ipython2",
   "version": "2.7.6"
  }
 },
 "nbformat": 4,
 "nbformat_minor": 5
}
