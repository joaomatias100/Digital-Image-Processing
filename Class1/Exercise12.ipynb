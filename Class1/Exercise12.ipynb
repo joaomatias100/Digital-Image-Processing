{
 "cells": [
  {
   "cell_type": "code",
   "execution_count": 1,
   "id": "initial_id",
   "metadata": {
    "collapsed": true,
    "ExecuteTime": {
     "end_time": "2023-11-27T11:59:38.226939600Z",
     "start_time": "2023-11-27T11:59:38.058285400Z"
    }
   },
   "outputs": [],
   "source": [
    "import cv2\n",
    "import numpy as np\n"
   ]
  },
  {
   "cell_type": "code",
   "execution_count": 4,
   "outputs": [],
   "source": [
    "#Ex1\n",
    "path = \"teste/Lung.bmp\"\n",
    "\n",
    "img = cv2.imread(path, cv2.COLOR_BGR2RGB)\n",
    "\n",
    "cv2.imshow(\"img\", img)\n",
    "cv2.waitKey(0)\n",
    "cv2.destroyAllWindows()\n",
    "\n",
    "kernel1 = np.array(([0, 1, 0],\n",
    "                   [1, 1, 1],\n",
    "                   [0, 1, 0]), dtype=np.uint8)\n",
    "\n",
    "kernel2 = np.ones((2, 2), dtype = np.uint8)\n",
    "\n",
    "img_trans1 = cv2.dilate(img, kernel1, iterations = 1)\n",
    "img_trans2 = cv2.dilate(img, kernel2, iterations = 1)\n",
    "\n",
    "cv2.imshow(\"img\", img_trans1)\n",
    "cv2.waitKey(0)\n",
    "cv2.destroyAllWindows()\n",
    "\n",
    "cv2.imshow(\"img\", img_trans2)\n",
    "cv2.waitKey(0)\n",
    "cv2.destroyAllWindows()"
   ],
   "metadata": {
    "collapsed": false,
    "ExecuteTime": {
     "end_time": "2023-11-27T12:03:17.926432400Z",
     "start_time": "2023-11-27T12:03:14.538723900Z"
    }
   },
   "id": "a3a942fc88a98cfd"
  },
  {
   "cell_type": "code",
   "execution_count": 27,
   "outputs": [],
   "source": [
    "#Ex2\n",
    "path = \"imagens/wire_bond.tif\"\n",
    "\n",
    "img = cv2.imread(path, cv2.COLOR_BGR2RGB)\n",
    "\n",
    "cv2.imshow(\"img\", img)\n",
    "cv2.waitKey(0)\n",
    "cv2.destroyAllWindows()\n",
    "\n",
    "kernel1 = np.array(([0, 1, 1, 1, 0],\n",
    "                    [1, 1, 1, 1, 1],\n",
    "                    [1, 1, 1, 1, 1],\n",
    "                    [1, 1, 1, 1, 1],\n",
    "                    [0, 1, 1, 1, 0]), \n",
    "                    dtype=np.uint8)\n",
    "\n",
    "def my_unit_circle(r):\n",
    "    d = 2*r + 1\n",
    "    rx, ry = d/2, d/2\n",
    "    x, y = np.indices((d, d))\n",
    "    return (np.abs(np.hypot(rx - x, ry - y)-r) < 0.5).astype(int)\n",
    "\n",
    "kernel2 = np.ones((2, 2), dtype = np.uint8)\n",
    "\n",
    "img_trans1 = cv2.dilate(img, kernel1, iterations = 1)\n",
    "img_trans2 = cv2.erode(img, kernel1, iterations = 1)\n",
    "\n",
    "cv2.imshow(\"img\", img_trans1)\n",
    "cv2.waitKey(0)\n",
    "cv2.destroyAllWindows()\n",
    "\n",
    "cv2.imshow(\"img\", img_trans2)\n",
    "cv2.waitKey(0)\n",
    "cv2.destroyAllWindows()"
   ],
   "metadata": {
    "collapsed": false,
    "ExecuteTime": {
     "end_time": "2023-11-06T18:11:48.679118Z",
     "start_time": "2023-11-06T18:11:44.703168200Z"
    }
   },
   "id": "8ad1c4261136fe4a"
  },
  {
   "cell_type": "code",
   "execution_count": 26,
   "outputs": [
    {
     "data": {
      "text/plain": "array([[0, 0, 0, 0, 0, 0, 0, 0, 0, 0, 0, 0, 0, 0, 0, 0, 0, 0, 0, 0, 0],\n       [0, 0, 0, 0, 0, 0, 0, 1, 1, 1, 1, 1, 1, 1, 1, 0, 0, 0, 0, 0, 0],\n       [0, 0, 0, 0, 0, 1, 1, 0, 0, 0, 0, 0, 0, 0, 0, 1, 1, 0, 0, 0, 0],\n       [0, 0, 0, 0, 1, 0, 0, 0, 0, 0, 0, 0, 0, 0, 0, 0, 0, 1, 0, 0, 0],\n       [0, 0, 0, 1, 0, 0, 0, 0, 0, 0, 0, 0, 0, 0, 0, 0, 0, 0, 1, 0, 0],\n       [0, 0, 1, 0, 0, 0, 0, 0, 0, 0, 0, 0, 0, 0, 0, 0, 0, 0, 0, 1, 0],\n       [0, 0, 1, 0, 0, 0, 0, 0, 0, 0, 0, 0, 0, 0, 0, 0, 0, 0, 0, 1, 0],\n       [0, 1, 0, 0, 0, 0, 0, 0, 0, 0, 0, 0, 0, 0, 0, 0, 0, 0, 0, 0, 1],\n       [0, 1, 0, 0, 0, 0, 0, 0, 0, 0, 0, 0, 0, 0, 0, 0, 0, 0, 0, 0, 1],\n       [0, 1, 0, 0, 0, 0, 0, 0, 0, 0, 0, 0, 0, 0, 0, 0, 0, 0, 0, 0, 1],\n       [0, 1, 0, 0, 0, 0, 0, 0, 0, 0, 0, 0, 0, 0, 0, 0, 0, 0, 0, 0, 1],\n       [0, 1, 0, 0, 0, 0, 0, 0, 0, 0, 0, 0, 0, 0, 0, 0, 0, 0, 0, 0, 1],\n       [0, 1, 0, 0, 0, 0, 0, 0, 0, 0, 0, 0, 0, 0, 0, 0, 0, 0, 0, 0, 1],\n       [0, 1, 0, 0, 0, 0, 0, 0, 0, 0, 0, 0, 0, 0, 0, 0, 0, 0, 0, 0, 1],\n       [0, 1, 0, 0, 0, 0, 0, 0, 0, 0, 0, 0, 0, 0, 0, 0, 0, 0, 0, 0, 1],\n       [0, 0, 1, 0, 0, 0, 0, 0, 0, 0, 0, 0, 0, 0, 0, 0, 0, 0, 0, 1, 0],\n       [0, 0, 1, 0, 0, 0, 0, 0, 0, 0, 0, 0, 0, 0, 0, 0, 0, 0, 0, 1, 0],\n       [0, 0, 0, 1, 0, 0, 0, 0, 0, 0, 0, 0, 0, 0, 0, 0, 0, 0, 1, 0, 0],\n       [0, 0, 0, 0, 1, 0, 0, 0, 0, 0, 0, 0, 0, 0, 0, 0, 0, 1, 0, 0, 0],\n       [0, 0, 0, 0, 0, 1, 1, 0, 0, 0, 0, 0, 0, 0, 0, 1, 1, 0, 0, 0, 0],\n       [0, 0, 0, 0, 0, 0, 0, 1, 1, 1, 1, 1, 1, 1, 1, 0, 0, 0, 0, 0, 0]])"
     },
     "execution_count": 26,
     "metadata": {},
     "output_type": "execute_result"
    }
   ],
   "source": [
    "def my_unit_circle(r):\n",
    "    d = 2*r + 1\n",
    "    rx, ry = d/2, d/2\n",
    "    x, y = np.indices((d, d))\n",
    "    return (np.abs(np.hypot(rx - x, ry - y)-r) < 0.5).astype(int)\n",
    "\n",
    "my_unit_circle(10)"
   ],
   "metadata": {
    "collapsed": false,
    "ExecuteTime": {
     "end_time": "2023-11-06T18:10:41.235575300Z",
     "start_time": "2023-11-06T18:10:41.185622400Z"
    }
   },
   "id": "8ec88aca16772e51"
  },
  {
   "cell_type": "code",
   "execution_count": 11,
   "outputs": [],
   "source": [
    "#Ex3\n",
    "path = \"imagens/shape.tif\"\n",
    "\n",
    "img = cv2.imread(path, cv2.COLOR_BGR2RGB)\n",
    "\n",
    "cv2.imshow(\"img\", img)\n",
    "cv2.waitKey(0)\n",
    "cv2.destroyAllWindows()\n",
    "\n",
    "struc_element = cv2.getStructuringElement(cv2.MORPH_RECT, (20, 20))\n",
    "img_open = cv2.morphologyEx(img, cv2.MORPH_OPEN, struc_element)\n",
    "img_close = cv2.morphologyEx(img, cv2.MORPH_CLOSE, struc_element)\n",
    "\n",
    "cv2.imshow(\"img_open\", img_open)\n",
    "cv2.waitKey(0)\n",
    "cv2.destroyAllWindows()\n",
    "\n",
    "cv2.imshow(\"img_close\", img_close)\n",
    "cv2.waitKey(0)\n",
    "cv2.destroyAllWindows()"
   ],
   "metadata": {
    "collapsed": false,
    "ExecuteTime": {
     "end_time": "2023-11-13T15:35:42.465010100Z",
     "start_time": "2023-11-13T15:35:32.989793600Z"
    }
   },
   "id": "86624f63de8e9925"
  },
  {
   "cell_type": "code",
   "execution_count": 3,
   "outputs": [
    {
     "name": "stdout",
     "output_type": "stream",
     "text": [
      "<class 'numpy.ndarray'>\n",
      "<class 'numpy.ndarray'>\n"
     ]
    }
   ],
   "source": [
    "#Ex4/5\n",
    "path = \"imagens/shape.tif\"\n",
    "\n",
    "img = cv2.imread(path, cv2.COLOR_BGR2RGB)\n",
    "\n",
    "cv2.imshow(\"img\", img)\n",
    "cv2.waitKey(0)\n",
    "cv2.destroyAllWindows()\n",
    "\n",
    "struc_element1 = cv2.getStructuringElement(cv2.MORPH_RECT, (20, 20))\n",
    "img_close = cv2.morphologyEx(img, cv2.MORPH_OPEN, struc_element1)\n",
    "img_open = cv2.morphologyEx(img_close, cv2.MORPH_CLOSE, struc_element1)\n",
    "\n",
    "cv2.imshow(\"img_open\", img_open)\n",
    "cv2.waitKey(0)\n",
    "cv2.destroyAllWindows()\n",
    "\n",
    "struct_element2 = np.array([[1, 1, 1],\n",
    "                           [1, 0, 0],\n",
    "                           [1, 0, 0]], dtype = np.uint8)\n",
    "\n",
    "struct_element3 = np.array([[0, 0, 0],\n",
    "                            [0, 1, 1],\n",
    "                            [0, 1, 1]], dtype = np.uint8)\n",
    "\n",
    "#img_open = np.asarray(img_open)\n",
    "\n",
    "input_image = img_open\n",
    "\n",
    "print(type(input_image))\n",
    "\n",
    "kernel = np.array((\n",
    "    [-255, -255, 0],\n",
    "    [-255, 255, 255],\n",
    "    [0, 255, 0]), dtype=\"uint8\")\n",
    "\n",
    "print(type(kernel))\n",
    "output_image = cv2.morphologyEx(input_image, cv2.MORPH_HITMISS, kernel)\n",
    "\n",
    "rate = 50\n",
    "kernel = (kernel + 1) * 127\n",
    "kernel = np.uint8(kernel)\n",
    "kernel = cv2.resize(kernel, None, fx = rate, fy = rate, interpolation = cv2.INTER_NEAREST)\n",
    "cv2.imshow(\"kernel\", kernel)\n",
    "cv2.moveWindow(\"kernel\", 0, 0)\n",
    "#input_image = cv2.resize(input_image, None, fx = rate, fy = rate, interpolation = cv2.INTER_NEAREST)\n",
    "cv2.imshow(\"Original\", input_image)\n",
    "cv2.moveWindow(\"Original\", 0, 200)\n",
    "#output_image = cv2.resize(output_image, None , fx = rate, fy = rate, interpolation = cv2.INTER_NEAREST)\n",
    "cv2.imshow(\"Hit or Miss\", output_image)\n",
    "cv2.moveWindow(\"Hit or Miss\", 500, 200)\n",
    "cv2.waitKey(0)\n",
    "cv2.destroyAllWindows()"
   ],
   "metadata": {
    "collapsed": false,
    "ExecuteTime": {
     "end_time": "2023-11-13T17:01:39.770966400Z",
     "start_time": "2023-11-13T17:01:34.274807800Z"
    }
   },
   "id": "53a59494e3acf8cd"
  },
  {
   "cell_type": "code",
   "execution_count": 11,
   "outputs": [
    {
     "name": "stdout",
     "output_type": "stream",
     "text": [
      "<class 'numpy.ndarray'>\n",
      "<class 'numpy.ndarray'>\n"
     ]
    }
   ],
   "source": [
    "import cv2 as cv2\n",
    "import numpy as np\n",
    "\n"
   ],
   "metadata": {
    "collapsed": false,
    "ExecuteTime": {
     "end_time": "2023-11-13T16:44:51.130552800Z",
     "start_time": "2023-11-13T16:44:47.380604900Z"
    }
   },
   "id": "24b1e90366589aca"
  },
  {
   "cell_type": "code",
   "execution_count": 15,
   "outputs": [],
   "source": [
    "#Ex9\n",
    "path = \"imagens/bolas2.jpg\"\n",
    "img = cv2.imread(path, cv2.COLOR_BGR2RGB)\n",
    "\n",
    "cv2.imshow(\"img\", img)\n",
    "cv2.waitKey(0)\n",
    "cv2.destroyAllWindows()\n",
    "\n",
    "img = 255 - img\n",
    "cv2.imshow(\"img\", img)\n",
    "cv2.waitKey(0)\n",
    "cv2.destroyAllWindows()\n",
    "\n",
    "kernel1 = np.ones((15, 15), dtype=\"uint8\")\n",
    "\n",
    "img_eroded = cv2.erode(img, kernel1, iterations = 1)\n",
    "\n",
    "cv2.imshow(\"img_eroded\", img_eroded)\n",
    "cv2.waitKey(0)\n",
    "cv2.destroyAllWindows()\n",
    "\n",
    "img_dilated = cv2.dilate(img_eroded, kernel1)\n",
    "\n",
    "cv2.imshow(\"img_dilated\", img_dilated)\n",
    "cv2.waitKey(0)\n",
    "cv2.destroyAllWindows()"
   ],
   "metadata": {
    "collapsed": false,
    "ExecuteTime": {
     "end_time": "2023-11-13T17:12:04.669435300Z",
     "start_time": "2023-11-13T17:11:57.388376600Z"
    }
   },
   "id": "7ba0ca14122d56d9"
  },
  {
   "cell_type": "code",
   "execution_count": 29,
   "outputs": [],
   "source": [
    "#Ex10\n",
    "path = \"imagens/bolas_paus.jpg\"\n",
    "img = cv2.imread(path, cv2.COLOR_BGR2RGB)\n",
    "\n",
    "cv2.imshow(\"img\", img)\n",
    "cv2.waitKey(0)\n",
    "cv2.destroyAllWindows()\n",
    "\n",
    "kernel1 = cv2.getStructuringElement(cv2.MORPH_ELLIPSE, (20, 20))\n",
    "\n",
    "img_eroded = cv2.erode(img, kernel1, iterations = 1)\n",
    "\n",
    "cv2.imshow(\"img_eroded\", img_eroded)\n",
    "cv2.waitKey(0)\n",
    "cv2.destroyAllWindows()\n",
    "\n",
    "img_dilated = cv2.dilate(img_eroded, kernel1)\n",
    "\n",
    "cv2.imshow(\"img_dilated\", img_dilated)\n",
    "cv2.waitKey(0)\n",
    "cv2.destroyAllWindows()"
   ],
   "metadata": {
    "collapsed": false,
    "ExecuteTime": {
     "end_time": "2023-11-13T17:20:18.568686300Z",
     "start_time": "2023-11-13T17:20:11.818606700Z"
    }
   },
   "id": "dec83833cebde04"
  },
  {
   "cell_type": "code",
   "execution_count": null,
   "outputs": [],
   "source": [],
   "metadata": {
    "collapsed": false
   },
   "id": "aa28be62361b0822"
  }
 ],
 "metadata": {
  "kernelspec": {
   "display_name": "Python 3",
   "language": "python",
   "name": "python3"
  },
  "language_info": {
   "codemirror_mode": {
    "name": "ipython",
    "version": 2
   },
   "file_extension": ".py",
   "mimetype": "text/x-python",
   "name": "python",
   "nbconvert_exporter": "python",
   "pygments_lexer": "ipython2",
   "version": "2.7.6"
  }
 },
 "nbformat": 4,
 "nbformat_minor": 5
}
