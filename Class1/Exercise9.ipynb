{
 "cells": [
  {
   "cell_type": "code",
   "execution_count": 1,
   "outputs": [],
   "source": [
    "import cv2\n",
    "import numpy as np\n",
    "import matplotlib as plt"
   ],
   "metadata": {
    "collapsed": false,
    "ExecuteTime": {
     "end_time": "2023-11-06T15:12:50.492898600Z",
     "start_time": "2023-11-06T15:12:50.063789800Z"
    }
   },
   "id": "9be423a8683ac422"
  },
  {
   "cell_type": "code",
   "execution_count": null,
   "outputs": [],
   "source": [
    "#Ex1\n",
    "path = \"imagens/estrada.tif\"\n",
    "\n",
    "img = cv2.imread(path, cv2.COLOR_BGR2RGB)\n",
    "\n",
    "cv2.imshow(\"img\", img)\n",
    "cv2.waitKey(0)\n",
    "cv2.destroyAllWindows()\n",
    "\n",
    "lines = cv2.HoughLines(img, 1, np.pi / 180, 120, np.array([]))\n",
    "\n",
    "for line in lines:\n",
    "    rho, theta = line[0]\n",
    "    a = np.cos(theta)\n",
    "    b = np.sin(theta)\n",
    "    x0 = a*rho\n",
    "    y0 = b*rho\n",
    "    x1 = int(x0 + 1000*(-b))\n",
    "    y1 = int(y0 + 1000*(a))\n",
    "    x2 = int(x0 + 1000*(-b))\n",
    "    y2 = int(y0 - 1000*(1))\n",
    "\n",
    "cv2.line(img, (x1, y1), (x2, y2), (0, 0, 255), 2)\n",
    "\n",
    "\n",
    "cv2.imshow(\"Linhas Detectadas\", img)\n",
    "cv2.waitKey(0)\n",
    "cv2.destroyAllWindows()\n"
   ],
   "metadata": {
    "collapsed": false,
    "is_executing": true
   },
   "id": "initial_id"
  },
  {
   "cell_type": "code",
   "execution_count": null,
   "outputs": [],
   "source": [
    "img = cv2.imread(\"imagens/bolas.jpg\", cv2.IMREAD_COLOR)\n",
    "\n",
    "# Converta a imagem para escala de cinza\n",
    "gray_img = cv2.cvtColor(img, cv2.COLOR_BGR2GRAY)\n",
    "\n",
    "# Aplique um desfoque para reduzir o ruído\n",
    "blurred_img = cv2.GaussianBlur(gray_img, (9, 9), 2)\n",
    "\n",
    "# Detecte círculos na imagem\n",
    "circles = cv2.HoughCircles(blurred_img, cv2.HOUGH_GRADIENT, dp=1, minDist=50, param1=100, param2=30, minRadius=10, maxRadius=100)\n",
    "\n",
    "# Certifique-se de que círculos foram detectados\n",
    "if circles is not None:\n",
    "    # Converta as coordenadas dos círculos para inteiros\n",
    "    circles = np.uint16(np.around(circles))\n",
    "\n",
    "    # Desenhe os círculos na imagem original\n",
    "    for circle in circles[0, :]:\n",
    "        center = (circle[0], circle[1])\n",
    "        radius = circle[2]\n",
    "        cv2.circle(img, center, radius, (0, 0, 255), 2)\n",
    "\n",
    "    # Exiba a imagem com os círculos detectados\n",
    "    cv2.imshow(\"Círculos Detectados\", img)\n",
    "    cv2.waitKey(0)\n",
    "    cv2.destroyAllWindows()\n",
    "else:\n",
    "    print(\"Nenhum círculo foi detectado.\")"
   ],
   "metadata": {
    "collapsed": false,
    "is_executing": true
   },
   "id": "ff4dedaca81881f1"
  },
  {
   "cell_type": "code",
   "execution_count": null,
   "outputs": [],
   "source": [],
   "metadata": {
    "collapsed": false,
    "is_executing": true
   },
   "id": "bc5852a726b20c66"
  }
 ],
 "metadata": {
  "kernelspec": {
   "display_name": "Python 3",
   "language": "python",
   "name": "python3"
  },
  "language_info": {
   "codemirror_mode": {
    "name": "ipython",
    "version": 2
   },
   "file_extension": ".py",
   "mimetype": "text/x-python",
   "name": "python",
   "nbconvert_exporter": "python",
   "pygments_lexer": "ipython2",
   "version": "2.7.6"
  }
 },
 "nbformat": 4,
 "nbformat_minor": 5
}
