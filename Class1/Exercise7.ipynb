{
 "cells": [
  {
   "cell_type": "code",
   "execution_count": 1,
   "outputs": [],
   "source": [
    "import matplotlib.pyplot as plt\n",
    "import cv2\n",
    "import numpy as np"
   ],
   "metadata": {
    "collapsed": false,
    "ExecuteTime": {
     "end_time": "2024-01-22T19:52:58.093137400Z",
     "start_time": "2024-01-22T19:52:57.639416200Z"
    }
   },
   "id": "8005be965a7fa08d"
  },
  {
   "cell_type": "code",
   "execution_count": 2,
   "outputs": [],
   "source": [
    "#Ex1\n",
    "path = \"imagens/face.jpg\"\n",
    "\n",
    "img = cv2.imread(path, cv2.COLOR_BGR2RGB)\n",
    "\n",
    "cv2.imshow(\"img\", img)\n",
    "cv2.waitKey(0)\n",
    "cv2.destroyAllWindows()\n",
    "\n",
    "filter1 = np.ones((3, 3), dtype = np.float32) / 9\n",
    "filter2 = np.ones((7, 7), dtype = np.float32) / 49\n",
    "\n",
    "res1 = cv2.filter2D(img, -1, filter1)\n",
    "res2 = cv2.filter2D(img, -1, filter2)\n",
    "\n",
    "cv2.imshow(\"res1\", res1)\n",
    "cv2.imshow(\"res2\", res2)\n",
    "cv2.waitKey(0)\n",
    "cv2.destroyAllWindows()"
   ],
   "metadata": {
    "collapsed": false,
    "ExecuteTime": {
     "start_time": "2024-01-22T19:53:00.573069700Z"
    }
   },
   "id": "initial_id"
  },
  {
   "cell_type": "code",
   "execution_count": null,
   "outputs": [],
   "source": [
    "#Ex2\n",
    "path = \"imagens/face.jpg\"\n",
    "\n",
    "img = cv2.imread(path, cv2.COLOR_BGR2RGB)\n",
    "\n",
    "cv2.imshow(\"img\", img)\n",
    "cv2.waitKey(0)\n",
    "cv2.destroyAllWindows()\n",
    "\n",
    "img = cv2.GaussianBlur(img, (5, 5), 1)\n",
    "\n",
    "cv2.imshow(\"img\", img)\n",
    "cv2.waitKey(0)\n",
    "cv2.destroyAllWindows()"
   ],
   "metadata": {
    "collapsed": false,
    "is_executing": true
   },
   "id": "56b09049e5c5212c"
  },
  {
   "cell_type": "code",
   "execution_count": null,
   "outputs": [],
   "source": [
    "#Ex3\n",
    "path = \"imagens/face_noise.jpg\"\n",
    "\n",
    "img = cv2.imread(path, cv2.COLOR_BGR2RGB)\n",
    "\n",
    "cv2.imshow(\"img\", img)\n",
    "cv2.waitKey(0)\n",
    "cv2.destroyAllWindows()\n",
    "\n",
    "filter1 = np.ones((3, 3), dtype = np.float32) / 9\n",
    "filter2 = np.ones((5, 5), dtype = np.float32) / 25\n",
    "\n",
    "img1 = cv2.filter2D(img, -1, filter1)\n",
    "img2 = cv2.filter2D(img, -1, filter2)\n",
    "img3 = cv2.GaussianBlur(img, (5, 5), 1)\n",
    "img4 = cv2.medianBlur(img, 3)\n",
    "\n",
    "cv2.imshow(\"img1\", img1)\n",
    "cv2.imshow(\"img2\", img2)\n",
    "cv2.imshow(\"imggaussian\", img3)\n",
    "cv2.imshow(\"imgmedian\", img4)\n",
    "cv2.waitKey(0)\n",
    "cv2.destroyAllWindows()"
   ],
   "metadata": {
    "collapsed": false,
    "is_executing": true
   },
   "id": "9cd04e9c18b27c83"
  },
  {
   "cell_type": "code",
   "execution_count": null,
   "outputs": [],
   "source": [
    "#Ex4\n",
    "path = \"imagens/retina.jpg\"\n",
    "\n",
    "img = cv2.imread(path, cv2.COLOR_BGR2RGB)\n",
    "\n",
    "cv2.imshow(\"img\", img)\n",
    "cv2.waitKey(0)\n",
    "cv2.destroyAllWindows()\n",
    "\n",
    "img_filter = cv2.blur(img, (27, 27))\n",
    "\n",
    "k = 5\n",
    "\n",
    "final_img = img + k * (img - img_filter)\n",
    "cv2.imshow(\"imgfilter\", final_img)\n",
    "cv2.waitKey(0)\n",
    "cv2.destroyAllWindows()\n"
   ],
   "metadata": {
    "collapsed": false,
    "is_executing": true
   },
   "id": "abe075e504523341"
  },
  {
   "cell_type": "code",
   "execution_count": null,
   "outputs": [],
   "source": [
    "#Ex5\n",
    "path = \"imagens/moon.tif\"\n",
    "\n",
    "img = cv2.imread(path, cv2.COLOR_BGR2RGB)\n",
    "\n",
    "cv2.imshow(\"img\", img)\n",
    "cv2.waitKey(0)\n",
    "cv2.destroyAllWindows()\n",
    "\n",
    "k = 2\n",
    "\n",
    "img_filter = cv2.blur(img, (27, 27))\n",
    "img_final = img + k * (img - img_filter)\n",
    "\n",
    "cv2.imshow(\"final\", img_final)\n",
    "cv2.waitKey(0)\n",
    "cv2.destroyAllWindows()"
   ],
   "metadata": {
    "collapsed": false,
    "is_executing": true
   },
   "id": "975e23798193c612"
  },
  {
   "cell_type": "code",
   "execution_count": null,
   "outputs": [],
   "source": [
    "#Ex6\n",
    "path = \"imagens/moon.tif\"\n",
    "\n",
    "img = cv2.imread(path, cv2.COLOR_BGR2RGB)\n",
    "\n",
    "cv2.imshow(\"img\", img)\n",
    "cv2.waitKey(0)\n",
    "cv2.destroyAllWindows()\n",
    "\n",
    "img_lap = cv2.Laplacian(img, 50)\n",
    "img_lap = np.uint8(np.abs(img_lap))\n",
    "final = cv2.subtract(img, img_lap)\n",
    "cv2.imshow(\"img\", final)\n",
    "cv2.waitKey(0)\n",
    "cv2.destroyAllWindows()"
   ],
   "metadata": {
    "collapsed": false,
    "is_executing": true
   },
   "id": "c8a62bf0187595fc"
  },
  {
   "cell_type": "code",
   "execution_count": null,
   "outputs": [],
   "source": [
    "#Ex7\n",
    "path = \"imagens/edificio.tif\"\n",
    "\n",
    "img = cv2.imread(path, cv2.COLOR_BGR2RGB)\n",
    "\n",
    "cv2.imshow(\"img\", img)\n",
    "cv2.waitKey(0)\n",
    "cv2.destroyAllWindows()\n",
    "\n",
    "img_gauss = img\n",
    "img_sp = img\n",
    "\n",
    "noise_gauss = np.random.normal(1, 1, img.shape).astype(np.uint8)\n",
    "img_gauss = cv2.add(img, noise_gauss)\n",
    "\n",
    "cv2.imshow(\"img\", img_gauss)\n",
    "cv2.waitKey(0)\n",
    "cv2.destroyAllWindows()\n",
    "\n"
   ],
   "metadata": {
    "collapsed": false,
    "is_executing": true
   },
   "id": "c709f0d6c7d52527"
  },
  {
   "cell_type": "code",
   "execution_count": null,
   "outputs": [],
   "source": [],
   "metadata": {
    "collapsed": false,
    "is_executing": true
   },
   "id": "feea67f92ad52d8b"
  }
 ],
 "metadata": {
  "kernelspec": {
   "display_name": "Python 3",
   "language": "python",
   "name": "python3"
  },
  "language_info": {
   "codemirror_mode": {
    "name": "ipython",
    "version": 2
   },
   "file_extension": ".py",
   "mimetype": "text/x-python",
   "name": "python",
   "nbconvert_exporter": "python",
   "pygments_lexer": "ipython2",
   "version": "2.7.6"
  }
 },
 "nbformat": 4,
 "nbformat_minor": 5
}
